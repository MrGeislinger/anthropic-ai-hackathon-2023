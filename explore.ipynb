{
 "cells": [
  {
   "cell_type": "code",
   "execution_count": 1,
   "metadata": {},
   "outputs": [],
   "source": [
    "import joblib\n",
    "import os\n",
    "import anthropic"
   ]
  },
  {
   "cell_type": "code",
   "execution_count": 2,
   "metadata": {},
   "outputs": [],
   "source": [
    "text_with_ts = joblib.load('data/hi-18-Monkey_Copyright.gz')\n",
    "transcript = text_with_ts['text']"
   ]
  },
  {
   "cell_type": "code",
   "execution_count": 3,
   "metadata": {},
   "outputs": [],
   "source": [
    "MY_PROMPT = f'''{anthropic.HUMAN_PROMPT}:\n",
    "Here is the full transcript of the Hello Internet podcast:\n",
    "```\n",
    "{transcript}\n",
    "```\n",
    "--------------------\n",
    "What do the hosts from the podcast think about copyright?\n",
    "\n",
    "{anthropic.AI_PROMPT}:'''\n",
    "\n",
    "\n",
    "def main(max_tokens_to_sample: int = 100, prompt: str =MY_PROMPT,):\n",
    "    c = anthropic.Client(os.environ[\"ANTHROPIC_API_KEY\"])\n",
    "    resp = c.completion(\n",
    "        prompt=prompt,\n",
    "        stop_sequences=[anthropic.HUMAN_PROMPT],\n",
    "        model=\"claude-v1\",\n",
    "        max_tokens_to_sample=max_tokens_to_sample,\n",
    "    )\n",
    "    return resp"
   ]
  },
  {
   "cell_type": "code",
   "execution_count": 4,
   "metadata": {},
   "outputs": [],
   "source": [
    "response = main(500)"
   ]
  },
  {
   "cell_type": "code",
   "execution_count": 5,
   "metadata": {},
   "outputs": [
    {
     "name": "stdout",
     "output_type": "stream",
     "text": [
      " From the discussion, it seems like the hosts have mixed feelings about copyright law:\n",
      "\n",
      "- They think copyright law can be frustratingly ambiguous, with no hard and fast rules. Copyright cases often have to be decided on a case-by-case basis in court. \n",
      "\n",
      "- Brady seems to lean towards thinking that David Slater, the photographer, should own the copyright to the monkey selfie. He argues that Slater set up the scenario and equipment that allowed the photo to be taken, even if he didn't directly press the shutter. \n",
      "\n",
      "- Grey seems more sympathetic to the idea that the image could be in the public domain, since there's no clear human author or owner. He thinks it's an interesting legal question. \n",
      "\n",
      "- Grey expresses skepticism about the idea that copyright should reside with the equipment used to create a work. He thinks there are many problematic implications to that view.\n",
      "\n",
      "- More generally, the hosts seem to think that copyright law needs to grapple with new scenarios introduced by technology, like AI systems creating works. They're interested in discussing how the law may need to evolve.\n",
      "\n",
      "- Personally, Grey hopes the monkey gets the copyright, mostly because he thinks it's an amusing idea. But legally and pragmatically, he doesn't seem to actually expect that outcome.\n",
      "\n",
      "So in summary, they find copyright law complex with many open questions, but on balance, seem to think the photographer likely has the strongest legal claim to the image, even if the situation is novel and thought-provoking.\n"
     ]
    }
   ],
   "source": [
    "print(response['completion'])"
   ]
  },
  {
   "attachments": {},
   "cell_type": "markdown",
   "metadata": {},
   "source": [
    "# Flag Design"
   ]
  },
  {
   "cell_type": "code",
   "execution_count": 6,
   "metadata": {},
   "outputs": [],
   "source": [
    "flag_desing_prompt = f'''{anthropic.HUMAN_PROMPT}:\n",
    "Here is the full transcript of the Hello Internet podcast:\n",
    "```\n",
    "{transcript}\n",
    "```\n",
    "--------------------\n",
    "What do the hosts from the podcast think about flag design?\n",
    "\n",
    "{anthropic.AI_PROMPT}:'''\n",
    "\n",
    "\n",
    "response = main(500, prompt=flag_desing_prompt)"
   ]
  },
  {
   "cell_type": "code",
   "execution_count": 7,
   "metadata": {},
   "outputs": [
    {
     "name": "stdout",
     "output_type": "stream",
     "text": [
      " Based on what's mentioned in the podcast, I believe the hosts don't spend a lot of time talking about flag design or expressing strong opinions on flag design. In fact, they appear to briefly mention flag design as an example in their discussion, but don't go into depth about it. At one point, Brady says \"as I'm looking at this, this monkey page, I have these three monkey pictures staring at me. He describes what the situation is with the monkeys. And then below, he says, it is a totally humbling and almost beyond my ability to write here experience.\" So they mention the monkey photos, but not the flag design itself. Overall, I don't think we can infer strong opinions on flag design from this podcast. The focus seems to lie elsewhere.\n"
     ]
    }
   ],
   "source": [
    "print(response['completion'])"
   ]
  }
 ],
 "metadata": {
  "kernelspec": {
   "display_name": "hi_transcript",
   "language": "python",
   "name": "python3"
  },
  "language_info": {
   "codemirror_mode": {
    "name": "ipython",
    "version": 3
   },
   "file_extension": ".py",
   "mimetype": "text/x-python",
   "name": "python",
   "nbconvert_exporter": "python",
   "pygments_lexer": "ipython3",
   "version": "3.10.9"
  },
  "orig_nbformat": 4
 },
 "nbformat": 4,
 "nbformat_minor": 2
}
