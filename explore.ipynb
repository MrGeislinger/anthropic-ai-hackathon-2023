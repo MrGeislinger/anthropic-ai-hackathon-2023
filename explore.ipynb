{
 "cells": [
  {
   "cell_type": "code",
   "execution_count": 1,
   "metadata": {},
   "outputs": [],
   "source": [
    "import joblib\n",
    "import os\n",
    "import anthropic"
   ]
  },
  {
   "cell_type": "code",
   "execution_count": 2,
   "metadata": {},
   "outputs": [],
   "source": [
    "text_with_ts = joblib.load('data/hi-18-Monkey_Copyright.gz')\n",
    "transcript = text_with_ts['text']"
   ]
  },
  {
   "cell_type": "code",
   "execution_count": 3,
   "metadata": {},
   "outputs": [],
   "source": [
    "MY_PROMPT = f'''{anthropic.HUMAN_PROMPT}:\n",
    "Here is the full transcript of the Hello Internet podcast:\n",
    "```\n",
    "{transcript}\n",
    "```\n",
    "--------------------\n",
    "What do the hosts from the podcast think about copyright?\n",
    "\n",
    "{anthropic.AI_PROMPT}:'''\n",
    "\n",
    "\n",
    "def main(max_tokens_to_sample: int = 100, prompt: str = MY_PROMPT,):\n",
    "    c = anthropic.Client(os.environ['ANTHROPIC_API_KEY'])\n",
    "    resp = c.completion(\n",
    "        prompt=prompt,\n",
    "        stop_sequences=[anthropic.HUMAN_PROMPT],\n",
    "        # model=\"claude-v1\",\n",
    "        model='claude-v1-100k',\n",
    "        max_tokens_to_sample=max_tokens_to_sample,\n",
    "    )\n",
    "    return resp"
   ]
  },
  {
   "cell_type": "code",
   "execution_count": 4,
   "metadata": {},
   "outputs": [],
   "source": [
    "response = main(500)"
   ]
  },
  {
   "cell_type": "code",
   "execution_count": 5,
   "metadata": {},
   "outputs": [
    {
     "name": "stdout",
     "output_type": "stream",
     "text": [
      " Based on the transcript, it seems like the hosts Brady Haran and CGP Grey have mixed feelings about copyright. Some key points:\n",
      "\n",
      "- They think copyright law is messy and frustrating, with no hard and fast rules. Ultimately, copyright disputes have to be decided on a case-by-case basis in court. \n",
      "\n",
      "- Brady seems to think that copyright should belong to the creator, whether human or monkey, who pressed the shutter button and took the photo. He thinks the monkey should own the copyright to its selfie. Grey disagrees and thinks the copyright should belong to the photographer who set up the equipment and the scenario for the photo to be taken.\n",
      "\n",
      "- Grey recounts an anecdote about a cricket photographer who would have a trainee photographer sit with a camera on a tripod to capture action shots. But the photographer would control the shutter remotely to ensure he maintained copyright over the photos. Grey speculates this may have been to avoid any copyright disputes over whether the photos were \"work for hire\".\n",
      "\n",
      "- Grey finds dealing with copyright and fair use to be frustrating and time-consuming in creating his videos. He says his current project has been a \"copyright nightmare\" and he wants it to be over as soon as possible. \n",
      "\n",
      "- They think that topics like law and medicine are \"terrible\" for videos because they are so difficult to cover. Videos that rely heavily on clips, like Grey's current project, are also very time-consuming to produce.\n",
      "\n",
      "- Grey sees his current video project as justified only because of his crowdfunding support. He says he likely wouldn't have done the project otherwise, given how much time it requires relative to the potential payoff from ads.\n",
      "\n",
      "So in summary, while they discuss copyright in an abstract sense, they seem to find dealing with it in practice to be rather tedious and frustrating. But copyright is nonetheless an important issue, especially for creators like them.\n"
     ]
    }
   ],
   "source": [
    "print(response['completion'])"
   ]
  },
  {
   "attachments": {},
   "cell_type": "markdown",
   "metadata": {},
   "source": [
    "# Flag Design"
   ]
  },
  {
   "cell_type": "code",
   "execution_count": 6,
   "metadata": {},
   "outputs": [],
   "source": [
    "flag_design_prompt = f'''{anthropic.HUMAN_PROMPT}:\n",
    "Here is the full transcript of the Hello Internet podcast:\n",
    "```\n",
    "{transcript}\n",
    "```\n",
    "--------------------\n",
    "What do the hosts from the podcast think about flag design?\n",
    "\n",
    "{anthropic.AI_PROMPT}:'''\n",
    "\n",
    "\n",
    "response = main(500, prompt=flag_design_prompt)"
   ]
  },
  {
   "cell_type": "code",
   "execution_count": 7,
   "metadata": {},
   "outputs": [
    {
     "data": {
      "text/plain": [
       "(21681, 114133)"
      ]
     },
     "execution_count": 7,
     "metadata": {},
     "output_type": "execute_result"
    }
   ],
   "source": [
    "len(transcript.split()), len(transcript)"
   ]
  },
  {
   "cell_type": "code",
   "execution_count": 8,
   "metadata": {},
   "outputs": [
    {
     "name": "stdout",
     "output_type": "stream",
     "text": [
      " Based on the transcript, it seems the hosts are interested in flag design and find it fascinating to discuss. Some key points they make:\n",
      "\n",
      "- They think that most US state flags are poorly designed, with too many colors, too complex, and fail to be distinctive. They criticize them for being \"compromised in subtly different ways\". \n",
      "\n",
      "- They praise some redesigns of state flags that aim to unify and simplify the designs, though they find some too \"bland\" and \"boring\". They especially like one redesign based on the Game of Thrones banners. \n",
      "\n",
      "- They mention some principles for good flag design, like using meaningful symbolism, a limited number of basic colors (3-4), and avoiding text or letters. They refer to the North American Vexillological Association's guidelines.\n",
      "\n",
      "- They think flag design is an interesting topic because there are no hard rules and it ultimately comes down to subjective opinions and judgments. What makes a good, simple, and distinctive design is not always straightforward.\n",
      "\n",
      "- They express interest in discussing the designs of national flags around the world in a future episode. They seem to find flag design and vexillology in general a fascinating area of discussion.\n",
      "\n",
      "So in summary, the hosts seem to appreciate the design principles around flags, but also recognize it can be subjective and complex. They are critical of poorly designed flags, especially US state flags, but are open-minded in discussing examples of good flag design as well. Flag design appears to be an area of shared interest for them.\n"
     ]
    }
   ],
   "source": [
    "print(response['completion'])"
   ]
  }
 ],
 "metadata": {
  "kernelspec": {
   "display_name": "hi_transcript",
   "language": "python",
   "name": "python3"
  },
  "language_info": {
   "codemirror_mode": {
    "name": "ipython",
    "version": 3
   },
   "file_extension": ".py",
   "mimetype": "text/x-python",
   "name": "python",
   "nbconvert_exporter": "python",
   "pygments_lexer": "ipython3",
   "version": "3.10.9"
  },
  "orig_nbformat": 4
 },
 "nbformat": 4,
 "nbformat_minor": 2
}
